{
 "cells": [
  {
   "cell_type": "code",
   "execution_count": 20,
   "metadata": {},
   "outputs": [],
   "source": [
    "from csv import reader\n",
    "import numpy as np\n",
    "from sklearn.preprocessing import MinMaxScaler\n",
    "import random\n",
    "import matplotlib.pyplot as plt\n",
    "import math"
   ]
  },
  {
   "cell_type": "code",
   "execution_count": 21,
   "metadata": {},
   "outputs": [],
   "source": [
    "def load_dataset(dataset_path,n_train_data):\n",
    "    \"\"\"\n",
    "    加载数据集，并对数据集进行简单处理，划分验证集、训练集\n",
    "    :param dataset_path 数据集的路径\n",
    "    :param n_train_data 训练集数据个数\n",
    "    :return 训练集 验证集\n",
    "    \"\"\"\n",
    "    dataset = []\n",
    "    label_name = {'setosa': 0, 'versicolor': 1, 'virginica': 2}\n",
    "    # 读取并转化数据的格式\n",
    "    with open(dataset_path,'r') as file:\n",
    "        csv_reader = reader(file,delimiter = ',')\n",
    "        for row in csv_reader:\n",
    "            row[0:5] = list(map(float,row[0:5]))\n",
    "            row[5] = label_name[row[5]]\n",
    "            dataset.append(row)\n",
    "     # 对数据进行归一化处理\n",
    "    dataset = np.array(dataset)\n",
    "    mms = MinMaxScaler()\n",
    "    for i in range(dataset.shape[1] - 1):\n",
    "        dataset[:, i] = mms.fit_transform(dataset[:, i].reshape(-1, 1)).flatten()\n",
    "     # 将类标转为整型\n",
    "    #dataset = dataset.tolist()\n",
    "    for row in dataset:\n",
    "        row[5] = int(row[5])\n",
    "    # 打乱数据集\n",
    "    random.shuffle(dataset)\n",
    "\n",
    "    # 划分训练集和验证集\n",
    "    train_data = dataset[0:n_train_data]\n",
    "    val_data = dataset[n_train_data:]\n",
    "\n",
    "    return train_data, val_data"
   ]
  },
  {
   "cell_type": "code",
   "execution_count": 56,
   "metadata": {},
   "outputs": [],
   "source": [
    "def sigmoid(z):\n",
    "    \"\"\"激活函数(Sigmoid)：f(z) = Sigmoid(z)\n",
    "    :param z: 神经元的输入\n",
    "    :return: 神经元的输出\n",
    "    \"\"\"\n",
    "    return 1.0 / (1.0 + np.exp(-z))\n",
    "\n",
    "\n",
    "def sigmoid_derivative(output):\n",
    "    \"\"\"Sigmoid激活函数求导\n",
    "    :param output: 激活函数的输出值\n",
    "    :return: 求导计算结果\n",
    "    \"\"\"\n",
    "    return output * (1.0 - output)"
   ]
  },
  {
   "cell_type": "code",
   "execution_count": 73,
   "metadata": {},
   "outputs": [],
   "source": [
    "def fun_z(weights, inputs):\n",
    "    \"\"\"计算神经元的输入：z = weight * inputs + b\n",
    "    :param weights: 网络参数（权重矩阵和偏置项）\n",
    "    :param inputs: 上一层神经元的输出\n",
    "    :return: 当前层神经元的输入\n",
    "    \"\"\"\n",
    "    return np.dot(weights[:,:-1],inputs) + weights[:,-1]"
   ]
  },
  {
   "cell_type": "code",
   "execution_count": 45,
   "metadata": {},
   "outputs": [],
   "source": [
    "def forward_propagate(network, inputs):\n",
    "    \"\"\"前向传播计算\n",
    "    :param network: 神经网络\n",
    "    :param inputs: 一个样本数据\n",
    "    :return: 前向传播计算的结果\n",
    "    \"\"\"\n",
    "    for layer in network:  # 循环计算每一层\n",
    "        z = fun_z(layer['weights'],inputs)\n",
    "        layer['output'] = sigmoid(z)\n",
    "        inputs = layer['output']\n",
    "    return inputs"
   ]
  },
  {
   "cell_type": "code",
   "execution_count": 88,
   "metadata": {},
   "outputs": [],
   "source": [
    "def backward_propagate_error(network, actual_label):\n",
    "    \"\"\"误差进行反向传播\n",
    "    :param network: 神经网络\n",
    "    :param actual_label: 真实的标签值\n",
    "    :return:\n",
    "    \"\"\"\n",
    "    for i in reversed(range(len(network))):  # 从最后一层开始计算误差\n",
    "        layer = network[i]\n",
    "        #errors = np.empty()\n",
    "        if i != len(network)-1:  # 不是输出层\n",
    "            next_layer = network[i+1]\n",
    "\n",
    "            errors = np.matmul(next_layer['weights'][:,:-1].T,next_layer['delta']) # 可能要进行转置等运算\n",
    "                \n",
    "        else:  # 输出层\n",
    "            errors = actual_label - layer['output']\n",
    "          \n",
    "        # 计算误差项 delta\n",
    "        layer['delta'] = errors * sigmoid_derivative(layer['output'])"
   ]
  },
  {
   "cell_type": "code",
   "execution_count": 60,
   "metadata": {},
   "outputs": [
    {
     "name": "stdout",
     "output_type": "stream",
     "text": [
      "8\n",
      "[ 0  0 -2]\n",
      "[1 3 6]\n",
      "[2 4 6]\n"
     ]
    }
   ],
   "source": [
    "print(np.dot(np.array([1,1,2]) , np.array([1,1,3])))\n",
    "print(1 -np.array([1,1,3]))\n",
    "print(np.array([1,1,2]) * np.array([1,3,3]))\n",
    "print(np.matmul(np.array([[1,2,3],[1,2,3]]).T,np.array([1,1]).T))"
   ]
  },
  {
   "cell_type": "code",
   "execution_count": 112,
   "metadata": {},
   "outputs": [],
   "source": [
    "def update_parameters(network, row, l_rate):\n",
    "    \"\"\"利用误差更新神经网络的参数（权重矩阵和偏置项）\n",
    "    :param network: 神经网络\n",
    "    :param row: 一个样本数据\n",
    "    :param l_rate: 学习率\n",
    "    :return:\n",
    "    \"\"\"\n",
    "    for i in range(len(network)):\n",
    "        inputs = row[:-1]\n",
    "        if i != 0:  # 获取上一层网络的输出\n",
    "            inputs = network[i-1]['output']\n",
    "           #inputs = [neuron['output'] for neuron in network[i - 1]]\n",
    "       # print(network[i]['weights'][:,-1])\n",
    "       # print( network[i]['weights'])\n",
    "        network[i]['weights'][:,-1] += l_rate * network[i]['delta']\n",
    "        temparray = np.empty((network[i]['delta'].shape[0],inputs.shape[0]))\n",
    "        for ii in range(network[i]['delta'].shape[0]):\n",
    "            for jj in range(inputs.shape[0]):\n",
    "                temparray[ii,jj] = network[i]['delta'][ii] * inputs[jj]\n",
    "        network[i]['weights'][:,:-1] += l_rate * temparray\n",
    "        \n",
    "     \n",
    "         "
   ]
  },
  {
   "cell_type": "code",
   "execution_count": 128,
   "metadata": {},
   "outputs": [],
   "source": [
    "def initialize_network(n_inputs, n_hidden, n_outputs):\n",
    "    \"\"\"初始化BP网络（初始化隐藏层和输出层的参数：权重矩阵和偏置项）\n",
    "    :param n_inputs: 特征列数\n",
    "    :param n_hidden: 隐藏层神经元个数\n",
    "    :param n_outputs: 输出层神经元个数，即分类的总类别数\n",
    "    :return: 初始化后的神经网络\n",
    "    \"\"\"\n",
    "    network = list()\n",
    "    # 隐藏层\n",
    "    \n",
    "    hidden_layer = {'weights': np.array([[random.random() for i in range(n_inputs + 1)]for i in range(n_hidden)])}\n",
    "    #hidden_layer = [{'weights': [random.random() for i in range(n_inputs + 1)]} for i in range(n_hidden)]\n",
    "    network.append(hidden_layer)\n",
    "    # 输出层\n",
    "    output_layer = {'weights':np.array([[random.random() for i in range(n_hidden + 1)]for i in range(n_outputs)])}\n",
    "    #output_layer = [{'weights': [random.random() for i in range(n_hidden + 1)]} for i in range(n_outputs)]\n",
    "    network.append(output_layer)\n",
    "    return network"
   ]
  },
  {
   "cell_type": "code",
   "execution_count": 78,
   "metadata": {},
   "outputs": [],
   "source": [
    "def train(train_data, l_rate, epochs, n_hidden, val_data):\n",
    "    \"\"\"训练神经网络（迭代n_epoch个回合）\n",
    "    :param train_data: 训练集\n",
    "    :param l_rate: 学习率\n",
    "    :param epochs: 迭代的回合数\n",
    "    :param n_hidden: 隐藏层神经元个数\n",
    "    :param val_data: 验证集\n",
    "    :return: 训练好的网络\n",
    "    \"\"\"\n",
    "    # 获取特征列数\n",
    "    n_inputs = len(train_data[0]) - 1\n",
    "    # 获取分类的总类别数\n",
    "    n_outputs = len(set([row[-1] for row in train_data]))\n",
    "    # 初始化网络\n",
    "    network = initialize_network(n_inputs, n_hidden, n_outputs)\n",
    "\n",
    "    acc = []\n",
    "    for epoch in range(epochs):  # 训练epochs个回合\n",
    "        for row in train_data:\n",
    "            # 前馈计算\n",
    "            _ = forward_propagate(network, row[:-1])\n",
    "            #print(row[-1])\n",
    "            # 处理一下类标，用于计算误差  类似于 onehot\n",
    "            actual_label = np.zeros(n_outputs,dtype = int)\n",
    "            actual_label[int(row[-1])] = 1\n",
    "          \n",
    "            # 误差反向传播计算\n",
    "            backward_propagate_error(network, actual_label)\n",
    "            # 更新参数\n",
    "            update_parameters(network, row, l_rate)\n",
    "        # 保存当前epoch模型在验证集上的准确率\n",
    "        acc.append(validation(network, val_data))\n",
    "    # 绘制出训练过程中模型在验证集上的准确率变化\n",
    "    plt.xlabel('epochs')\n",
    "    plt.ylabel('accuracy')\n",
    "    plt.plot(acc)\n",
    "    plt.show()\n",
    "\n",
    "    return network"
   ]
  },
  {
   "cell_type": "code",
   "execution_count": 114,
   "metadata": {},
   "outputs": [],
   "source": [
    "def validation(network, val_data):\n",
    "    \"\"\"测试模型在验证集上的效果\n",
    "    :param network: 神经网络\n",
    "    :param val_data: 验证集\n",
    "    :return: 模型在验证集上的准确率\n",
    "    \"\"\"\n",
    "    # 获取预测类标\n",
    "    predicted_label = []\n",
    "    for row in val_data:\n",
    "        prediction = predict(network, row[:-1])\n",
    "        predicted_label.append(prediction)\n",
    "    # 获取真实类标\n",
    "    actual_label = [row[-1] for row in val_data]\n",
    "    # 计算准确率\n",
    "    accuracy = accuracy_calculation(actual_label, predicted_label)\n",
    "    # print(\"测试集实际类标：\", actual_label)\n",
    "    # print(\"测试集上的预测类标：\", predicted_label)\n",
    "    return accuracy"
   ]
  },
  {
   "cell_type": "code",
   "execution_count": 140,
   "metadata": {},
   "outputs": [],
   "source": [
    "def accuracy_calculation(actual_label, predicted_label):\n",
    "    \"\"\"计算准确率\n",
    "    :param actual_label: 真实类标\n",
    "    :param predicted_label: 模型预测的类标\n",
    "    :return: 准确率（百分制）\n",
    "    \"\"\"\n",
    "    correct_count = 0\n",
    "    for i in range(len(actual_label)):\n",
    "        if actual_label[i] == predicted_label[i]:\n",
    "            correct_count += 1\n",
    "    return correct_count / float(len(actual_label)) * 100.0\n",
    "\n",
    "\n",
    "def predict(network, row):\n",
    "    \"\"\"使用模型对当前输入的数据进行预测\n",
    "    :param network: 神经网络\n",
    "    :param row: 一个数据样本\n",
    "    :return: 预测结果\n",
    "    \"\"\"\n",
    "    outputs = forward_propagate(network, row)\n",
    "    return np.argmax(outputs,axis=0)\n",
    "   # return outputs.index(max(outputs))"
   ]
  },
  {
   "cell_type": "code",
   "execution_count": 145,
   "metadata": {
    "scrolled": true
   },
   "outputs": [
    {
     "data": {
      "image/png": "[encoded data removed]",
      "text/plain": [
       "<Figure size 432x288 with 1 Axes>"
      ]
     },
     "metadata": {
      "needs_background": "light"
     },
     "output_type": "display_data"
    }
   ],
   "source": [
    "if __name__ == \"__main__\":\n",
    "    file_path = 'data/iris.csv'\n",
    "\n",
    "    # 参数设置\n",
    "    l_rate = 0.2  # 学习率\n",
    "    epochs = 200  # 迭代训练的次数\n",
    "    n_hidden = 5  # 隐藏层神经元个数\n",
    "    n_train_data = 130  # 训练集的大小（总共150条数据，训练集130条，验证集20条）\n",
    "\n",
    "    # 加载数据并划分训练集和验证集\n",
    "    train_data, val_data = load_dataset(file_path, n_train_data)\n",
    "    # 训练模型\n",
    "    network = train(train_data, l_rate, epochs, n_hidden, val_data)"
   ]
  },
  {
   "cell_type": "code",
   "execution_count": 106,
   "metadata": {},
   "outputs": [
    {
     "ename": "ValueError",
     "evalue": "operands could not be broadcast together with shapes (3,) (5,) ",
     "output_type": "error",
     "traceback": [
      "\u001b[0;31m---------------------------------------------------------------------------\u001b[0m",
      "\u001b[0;31mValueError\u001b[0m                                Traceback (most recent call last)",
      "\u001b[0;32m<ipython-input-106-649240bf82e6>\u001b[0m in \u001b[0;36m<module>\u001b[0;34m\u001b[0m\n\u001b[1;32m      2\u001b[0m \u001b[0mb\u001b[0m \u001b[0;34m=\u001b[0m \u001b[0mnp\u001b[0m\u001b[0;34m.\u001b[0m\u001b[0marray\u001b[0m\u001b[0;34m(\u001b[0m\u001b[0;34m[\u001b[0m\u001b[0;36m1\u001b[0m\u001b[0;34m,\u001b[0m\u001b[0;36m1\u001b[0m\u001b[0;34m,\u001b[0m\u001b[0;36m1\u001b[0m\u001b[0;34m]\u001b[0m\u001b[0;34m)\u001b[0m\u001b[0;34m\u001b[0m\u001b[0;34m\u001b[0m\u001b[0m\n\u001b[1;32m      3\u001b[0m \u001b[0mc\u001b[0m \u001b[0;34m=\u001b[0m \u001b[0mnp\u001b[0m\u001b[0;34m.\u001b[0m\u001b[0marray\u001b[0m\u001b[0;34m(\u001b[0m\u001b[0;34m[\u001b[0m\u001b[0;36m1\u001b[0m\u001b[0;34m,\u001b[0m\u001b[0;36m1\u001b[0m\u001b[0;34m,\u001b[0m\u001b[0;36m1\u001b[0m\u001b[0;34m,\u001b[0m\u001b[0;36m1\u001b[0m\u001b[0;34m,\u001b[0m\u001b[0;36m1\u001b[0m\u001b[0;34m]\u001b[0m\u001b[0;34m)\u001b[0m\u001b[0;34m\u001b[0m\u001b[0;34m\u001b[0m\u001b[0m\n\u001b[0;32m----> 4\u001b[0;31m \u001b[0mprint\u001b[0m\u001b[0;34m(\u001b[0m\u001b[0mb\u001b[0m \u001b[0;34m*\u001b[0m \u001b[0mc\u001b[0m\u001b[0;34m.\u001b[0m\u001b[0mT\u001b[0m\u001b[0;34m)\u001b[0m\u001b[0;34m\u001b[0m\u001b[0;34m\u001b[0m\u001b[0m\n\u001b[0m\u001b[1;32m      5\u001b[0m \u001b[0;31m#print(np.matmul(b,c.T))\u001b[0m\u001b[0;34m\u001b[0m\u001b[0;34m\u001b[0m\u001b[0;34m\u001b[0m\u001b[0m\n\u001b[1;32m      6\u001b[0m \u001b[0mprint\u001b[0m\u001b[0;34m(\u001b[0m\u001b[0mb\u001b[0m\u001b[0;34m.\u001b[0m\u001b[0mreshape\u001b[0m\u001b[0;34m(\u001b[0m\u001b[0;34m(\u001b[0m\u001b[0;36m1\u001b[0m\u001b[0;34m,\u001b[0m\u001b[0;36m3\u001b[0m\u001b[0;34m)\u001b[0m\u001b[0;34m)\u001b[0m\u001b[0;34m)\u001b[0m\u001b[0;34m\u001b[0m\u001b[0;34m\u001b[0m\u001b[0m\n",
      "\u001b[0;31mValueError\u001b[0m: operands could not be broadcast together with shapes (3,) (5,) "
     ]
    }
   ],
   "source": []
  },
  {
   "cell_type": "code",
   "execution_count": null,
   "metadata": {},
   "outputs": [],
   "source": []
  }
 ],
 "metadata": {
  "kernelspec": {
   "display_name": "Python 3",
   "language": "python",
   "name": "python3"
  },
  "language_info": {
   "codemirror_mode": {
    "name": "ipython",
    "version": 3
   },
   "file_extension": ".py",
   "mimetype": "text/x-python",
   "name": "python",
   "nbconvert_exporter": "python",
   "pygments_lexer": "ipython3",
   "version": "3.6.7"
  }
 },
 "nbformat": 4,
 "nbformat_minor": 2
}
